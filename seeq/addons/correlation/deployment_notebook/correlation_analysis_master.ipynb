{
 "cells": [
  {
   "cell_type": "code",
   "execution_count": null,
   "metadata": {
    "collapsed": true
   },
   "outputs": [],
   "source": [
    "from seeq.addons import correlation\n",
    "from seeq import spy"
   ]
  },
  {
   "cell_type": "code",
   "execution_count": null,
   "metadata": {},
   "outputs": [],
   "source": [
    "found = correlation.utils.check_udf_package()\n",
    "if not found:\n",
    "    correlation.create_udfs(spy.client)"
   ]
  },
  {
   "cell_type": "code",
   "execution_count": null,
   "metadata": {
    "collapsed": false,
    "pycharm": {
     "name": "#%%\n"
    }
   },
   "outputs": [],
   "source": [
    "C = correlation.CorrelationHeatmap(sdl_notebook_url=jupyter_notebook_url)\n",
    "C.run()\n"
   ]
  },
  {
   "metadata": {},
   "cell_type": "code",
   "outputs": [],
   "execution_count": null,
   "source": [
    "from IPython.display import HTML\n",
    "custom_css = \"\"\"\n",
    "<style>\n",
    "    .modebar-group svg {\n",
    "          width: auto;\n",
    "          height: auto;\n",
    "}\n",
    "</style>\n",
    "\"\"\"\n",
    "HTML(custom_css)"
   ]
  }
 ],
 "metadata": {
  "kernelspec": {
   "display_name": "Python 3.11",
   "language": "python",
   "name": "python311"
  },
  "language_info": {
   "codemirror_mode": {
    "name": "ipython",
    "version": 3
   },
   "file_extension": ".py",
   "mimetype": "text/x-python",
   "name": "python",
   "nbconvert_exporter": "python",
   "pygments_lexer": "ipython3",
   "version": "3.11.10"
  }
 },
 "nbformat": 4,
 "nbformat_minor": 4
}
